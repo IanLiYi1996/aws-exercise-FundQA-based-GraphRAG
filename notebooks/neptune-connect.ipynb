{
 "cells": [
  {
   "cell_type": "code",
   "execution_count": 1,
   "metadata": {},
   "outputs": [],
   "source": [
    "from gremlin_python import statics\n",
    "from gremlin_python.structure.graph import Graph\n",
    "from gremlin_python.process.graph_traversal import __\n",
    "from gremlin_python.process.strategies import *\n",
    "from gremlin_python.driver.driver_remote_connection import DriverRemoteConnection\n",
    "from gremlin_python.driver.aiohttp.transport import AiohttpTransport\n",
    "from gremlin_python.process.traversal import *\n",
    "import os"
   ]
  },
  {
   "cell_type": "code",
   "execution_count": 2,
   "metadata": {},
   "outputs": [],
   "source": [
    "port = 8182\n",
    "server = 'db-neptune-1.cluster-c54gq640s2vk.us-east-1.neptune.amazonaws.com'\n",
    "\n",
    "endpoint = f'wss://{server}:{port}/gremlin'\n",
    "\n",
    "graph=Graph()\n",
    "\n",
    "connection = DriverRemoteConnection(endpoint,'g',\n",
    "                 transport_factory=lambda:AiohttpTransport(call_from_event_loop=True))"
   ]
  },
  {
   "cell_type": "code",
   "execution_count": 3,
   "metadata": {},
   "outputs": [
    {
     "data": {
      "text/plain": [
       "remoteconnection[wss://db-neptune-1.cluster-c54gq640s2vk.us-east-1.neptune.amazonaws.com:8182/gremlin,g]"
      ]
     },
     "execution_count": 3,
     "metadata": {},
     "output_type": "execute_result"
    }
   ],
   "source": [
    "connection"
   ]
  },
  {
   "cell_type": "code",
   "execution_count": 4,
   "metadata": {},
   "outputs": [],
   "source": [
    "g = graph.traversal().withRemote(connection)\n",
    "g = g.withSideEffect(\"Neptune#tx\", True)"
   ]
  },
  {
   "cell_type": "code",
   "execution_count": 5,
   "metadata": {},
   "outputs": [
    {
     "ename": "Exception",
     "evalue": "Cannot commit a transaction that is not started.",
     "output_type": "error",
     "traceback": [
      "\u001b[0;31m---------------------------------------------------------------------------\u001b[0m",
      "\u001b[0;31mException\u001b[0m                                 Traceback (most recent call last)",
      "Cell \u001b[0;32mIn[5], line 3\u001b[0m\n\u001b[1;32m      1\u001b[0m g\u001b[38;5;241m.\u001b[39maddV(\u001b[38;5;124m'\u001b[39m\u001b[38;5;124mperson\u001b[39m\u001b[38;5;124m'\u001b[39m)\u001b[38;5;241m.\u001b[39mproperty(\u001b[38;5;124m'\u001b[39m\u001b[38;5;124mname\u001b[39m\u001b[38;5;124m'\u001b[39m,\u001b[38;5;124m'\u001b[39m\u001b[38;5;124m张雪松\u001b[39m\u001b[38;5;124m'\u001b[39m)\u001b[38;5;241m.\u001b[39mproperty(\u001b[38;5;124m'\u001b[39m\u001b[38;5;124mexperiencetime\u001b[39m\u001b[38;5;124m'\u001b[39m, \u001b[38;5;241m6\u001b[39m)\u001b[38;5;241m.\u001b[39mproperty(\u001b[38;5;124m'\u001b[39m\u001b[38;5;124mbackground\u001b[39m\u001b[38;5;124m'\u001b[39m, \u001b[38;5;124m'\u001b[39m\u001b[38;5;124m张雪松，男，中国籍，6年证券从业经历，1973年生，经济学博士，于2002年进入公司实习及工作。曾任公司研究部研究员，从事宏观、策略、行业（机械及专用设备制造、外贸）及可转换债券研究，养老金及机构理财部总监助理，从事企业年金研究、投资方案设计及投资管理工作。自2006年3月16日至2008年1月12日，担任南方稳健成长证券投资基金的基金经理。自2006年7月25日至2008年1月12日，担任南方稳健成长贰号证券投资基金的基金经理。\u001b[39m\u001b[38;5;124m'\u001b[39m)\u001b[38;5;241m.\u001b[39mnext()\n\u001b[1;32m      2\u001b[0m g\u001b[38;5;241m.\u001b[39maddV(\u001b[38;5;124m'\u001b[39m\u001b[38;5;124mperson\u001b[39m\u001b[38;5;124m'\u001b[39m)\u001b[38;5;241m.\u001b[39mproperty(\u001b[38;5;124m'\u001b[39m\u001b[38;5;124mname\u001b[39m\u001b[38;5;124m'\u001b[39m,\u001b[38;5;124m'\u001b[39m\u001b[38;5;124m窦玉明\u001b[39m\u001b[38;5;124m'\u001b[39m)\u001b[38;5;241m.\u001b[39mproperty(\u001b[38;5;124m'\u001b[39m\u001b[38;5;124mexperiencetime\u001b[39m\u001b[38;5;124m'\u001b[39m, \u001b[38;5;241m14.6\u001b[39m)\u001b[38;5;241m.\u001b[39mproperty(\u001b[38;5;124m'\u001b[39m\u001b[38;5;124mbackground\u001b[39m\u001b[38;5;124m'\u001b[39m, \u001b[38;5;124m'\u001b[39m\u001b[38;5;124m窦玉明，男，中国籍，14年证券从业经历，硕士研究生。曾任职于北京中信国际合作公司、君安证券有限公司、大成基金管理有限公司。2000年10月至2008年8月任职于嘉实基金管理有限公司，历任投资部总监、总经理助理和公司副总经理。1999年9月22日至2000年6月30日，担任景博证券投资基金的基金经理助理。2002年11月5日至2004年8月10日，担任嘉实成长收益证券投资基金的基金经理。2007年7月21日至2008年7月21日，担任嘉实主题精选混合型证券投资基金的基金经理。\u001b[39m\u001b[38;5;124m'\u001b[39m)\u001b[38;5;241m.\u001b[39mnext()\n\u001b[0;32m----> 3\u001b[0m \u001b[43mg\u001b[49m\u001b[38;5;241;43m.\u001b[39;49m\u001b[43mtx\u001b[49m\u001b[43m(\u001b[49m\u001b[43m)\u001b[49m\u001b[38;5;241;43m.\u001b[39;49m\u001b[43mcommit\u001b[49m\u001b[43m(\u001b[49m\u001b[43m)\u001b[49m\n",
      "File \u001b[0;32m~/miniconda3/envs/exercise/lib/python3.9/site-packages/gremlin_python/process/graph_traversal.py:1785\u001b[0m, in \u001b[0;36mTransaction.commit\u001b[0;34m(self)\u001b[0m\n\u001b[1;32m   1782\u001b[0m \u001b[38;5;28;01mdef\u001b[39;00m \u001b[38;5;21mcommit\u001b[39m(\u001b[38;5;28mself\u001b[39m):\n\u001b[1;32m   1783\u001b[0m     \u001b[38;5;28;01mwith\u001b[39;00m \u001b[38;5;28mself\u001b[39m\u001b[38;5;241m.\u001b[39m__mutex:\n\u001b[1;32m   1784\u001b[0m         \u001b[38;5;66;03m# Verify transaction is open, close session and return result of transaction's commit.\u001b[39;00m\n\u001b[0;32m-> 1785\u001b[0m         \u001b[38;5;28;43mself\u001b[39;49m\u001b[38;5;241;43m.\u001b[39;49m\u001b[43m__verify_transaction_state\u001b[49m\u001b[43m(\u001b[49m\u001b[38;5;28;43;01mTrue\u001b[39;49;00m\u001b[43m,\u001b[49m\u001b[43m \u001b[49m\u001b[38;5;124;43m\"\u001b[39;49m\u001b[38;5;124;43mCannot commit a transaction that is not started.\u001b[39;49m\u001b[38;5;124;43m\"\u001b[39;49m\u001b[43m)\u001b[49m\n\u001b[1;32m   1786\u001b[0m         \u001b[38;5;28;01mreturn\u001b[39;00m \u001b[38;5;28mself\u001b[39m\u001b[38;5;241m.\u001b[39m__close_session(\u001b[38;5;28mself\u001b[39m\u001b[38;5;241m.\u001b[39m_session_based_connection\u001b[38;5;241m.\u001b[39mcommit())\n",
      "File \u001b[0;32m~/miniconda3/envs/exercise/lib/python3.9/site-packages/gremlin_python/process/graph_traversal.py:1814\u001b[0m, in \u001b[0;36mTransaction.__verify_transaction_state\u001b[0;34m(self, state, error_message)\u001b[0m\n\u001b[1;32m   1812\u001b[0m \u001b[38;5;28;01mdef\u001b[39;00m \u001b[38;5;21m__verify_transaction_state\u001b[39m(\u001b[38;5;28mself\u001b[39m, state, error_message):\n\u001b[1;32m   1813\u001b[0m     \u001b[38;5;28;01mif\u001b[39;00m \u001b[38;5;28mself\u001b[39m\u001b[38;5;241m.\u001b[39m__is_open \u001b[38;5;241m!=\u001b[39m state:\n\u001b[0;32m-> 1814\u001b[0m         \u001b[38;5;28;01mraise\u001b[39;00m \u001b[38;5;167;01mException\u001b[39;00m(error_message)\n",
      "\u001b[0;31mException\u001b[0m: Cannot commit a transaction that is not started."
     ]
    }
   ],
   "source": [
    "g.addV('person').property('name','张雪松').property('experiencetime', 6).property('background', '张雪松，男，中国籍，6年证券从业经历，1973年生，经济学博士，于2002年进入公司实习及工作。曾任公司研究部研究员，从事宏观、策略、行业（机械及专用设备制造、外贸）及可转换债券研究，养老金及机构理财部总监助理，从事企业年金研究、投资方案设计及投资管理工作。自2006年3月16日至2008年1月12日，担任南方稳健成长证券投资基金的基金经理。自2006年7月25日至2008年1月12日，担任南方稳健成长贰号证券投资基金的基金经理。').next()\n",
    "g.addV('person').property('name','窦玉明').property('experiencetime', 14.6).property('background', '窦玉明，男，中国籍，14年证券从业经历，硕士研究生。曾任职于北京中信国际合作公司、君安证券有限公司、大成基金管理有限公司。2000年10月至2008年8月任职于嘉实基金管理有限公司，历任投资部总监、总经理助理和公司副总经理。1999年9月22日至2000年6月30日，担任景博证券投资基金的基金经理助理。2002年11月5日至2004年8月10日，担任嘉实成长收益证券投资基金的基金经理。2007年7月21日至2008年7月21日，担任嘉实主题精选混合型证券投资基金的基金经理。').next()\n",
    "g.tx().commit()"
   ]
  },
  {
   "cell_type": "code",
   "execution_count": 6,
   "metadata": {},
   "outputs": [],
   "source": [
    "g.remote_connection"
   ]
  },
  {
   "cell_type": "code",
   "execution_count": 7,
   "metadata": {},
   "outputs": [
    {
     "name": "stdout",
     "output_type": "stream",
     "text": [
      "4.6.0\n"
     ]
    }
   ],
   "source": [
    "%graph_notebook_version"
   ]
  },
  {
   "cell_type": "code",
   "execution_count": 8,
   "metadata": {},
   "outputs": [
    {
     "name": "stdout",
     "output_type": "stream",
     "text": [
      "{\n",
      "    \"host\": \"change-me\",\n",
      "    \"neptune_service\": \"neptune-db\",\n",
      "    \"port\": 8182,\n",
      "    \"proxy_host\": \"\",\n",
      "    \"proxy_port\": 8182,\n",
      "    \"auth_mode\": \"DEFAULT\",\n",
      "    \"load_from_s3_arn\": \"\",\n",
      "    \"ssl\": true,\n",
      "    \"ssl_verify\": true,\n",
      "    \"aws_region\": \"us-east-1\",\n",
      "    \"sparql\": {\n",
      "        \"path\": \"sparql\"\n",
      "    },\n",
      "    \"gremlin\": {\n",
      "        \"connection_protocol\": \"websockets\",\n",
      "        \"traversal_source\": \"g\",\n",
      "        \"username\": \"\",\n",
      "        \"password\": \"\",\n",
      "        \"message_serializer\": \"GraphSONMessageSerializerV3\"\n",
      "    },\n",
      "    \"neo4j\": {\n",
      "        \"username\": \"neo4j\",\n",
      "        \"password\": \"password\",\n",
      "        \"auth\": true,\n",
      "        \"database\": null\n",
      "    }\n",
      "}\n"
     ]
    },
    {
     "data": {
      "text/plain": [
       "<graph_notebook.configuration.generate_config.Configuration at 0x7fcc20696b50>"
      ]
     },
     "execution_count": 8,
     "metadata": {},
     "output_type": "execute_result"
    }
   ],
   "source": [
    "%graph_notebook_config"
   ]
  },
  {
   "cell_type": "code",
   "execution_count": 9,
   "metadata": {},
   "outputs": [
    {
     "data": {
      "application/vnd.jupyter.widget-view+json": {
       "model_id": "5e51b681345341f297c5d9254253e286",
       "version_major": 2,
       "version_minor": 0
      },
      "text/plain": [
       "Tab(children=(Output(layout=Layout(overflow='scroll')),), _titles={'0': 'Error'})"
      ]
     },
     "metadata": {},
     "output_type": "display_data"
    }
   ],
   "source": [
    "%status"
   ]
  },
  {
   "cell_type": "code",
   "execution_count": null,
   "metadata": {},
   "outputs": [],
   "source": []
  }
 ],
 "metadata": {
  "kernelspec": {
   "display_name": "exercise",
   "language": "python",
   "name": "python3"
  },
  "language_info": {
   "codemirror_mode": {
    "name": "ipython",
    "version": 3
   },
   "file_extension": ".py",
   "mimetype": "text/x-python",
   "name": "python",
   "nbconvert_exporter": "python",
   "pygments_lexer": "ipython3",
   "version": "3.9.19"
  }
 },
 "nbformat": 4,
 "nbformat_minor": 2
}
