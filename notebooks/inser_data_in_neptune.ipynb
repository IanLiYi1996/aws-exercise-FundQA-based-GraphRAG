{
 "cells": [
  {
   "cell_type": "code",
   "execution_count": 1,
   "id": "25e1f404-b42b-4eb6-b7f0-78899af46484",
   "metadata": {
    "tags": []
   },
   "outputs": [
    {
     "name": "stdout",
     "output_type": "stream",
     "text": [
      "4.6.0\n"
     ]
    }
   ],
   "source": [
    "%graph_notebook_version"
   ]
  },
  {
   "cell_type": "code",
   "execution_count": 2,
   "id": "83c5e1f9-8f66-4c05-b940-0cdaec799249",
   "metadata": {
    "tags": []
   },
   "outputs": [
    {
     "name": "stdout",
     "output_type": "stream",
     "text": [
      "{\n",
      "    \"host\": \"db-neptune-1.cluster-c54gq640s2vk.us-east-1.neptune.amazonaws.com\",\n",
      "    \"neptune_service\": \"neptune-db\",\n",
      "    \"port\": 8182,\n",
      "    \"proxy_host\": \"\",\n",
      "    \"proxy_port\": 8182,\n",
      "    \"auth_mode\": \"DEFAULT\",\n",
      "    \"load_from_s3_arn\": \"\",\n",
      "    \"ssl\": true,\n",
      "    \"ssl_verify\": true,\n",
      "    \"aws_region\": \"us-east-1\",\n",
      "    \"sparql\": {\n",
      "        \"path\": \"sparql\"\n",
      "    },\n",
      "    \"gremlin\": {\n",
      "        \"connection_protocol\": \"websockets\",\n",
      "        \"traversal_source\": \"g\",\n",
      "        \"username\": \"\",\n",
      "        \"password\": \"\",\n",
      "        \"message_serializer\": \"GraphSONMessageSerializerV3\"\n",
      "    },\n",
      "    \"neo4j\": {\n",
      "        \"username\": \"neo4j\",\n",
      "        \"password\": \"password\",\n",
      "        \"auth\": true,\n",
      "        \"database\": null\n",
      "    }\n",
      "}\n"
     ]
    },
    {
     "data": {
      "text/plain": [
       "<graph_notebook.configuration.generate_config.Configuration at 0x7fe8fdc30ca0>"
      ]
     },
     "execution_count": 2,
     "metadata": {},
     "output_type": "execute_result"
    }
   ],
   "source": [
    "%graph_notebook_config"
   ]
  },
  {
   "cell_type": "code",
   "execution_count": 3,
   "id": "9532617d-cf5f-46fc-964a-50d1c2b00bcc",
   "metadata": {
    "tags": []
   },
   "outputs": [
    {
     "data": {
      "text/plain": [
       "{'status': 'healthy',\n",
       " 'startTime': 'Fri Sep 27 05:16:33 UTC 2024',\n",
       " 'dbEngineVersion': '1.3.2.1.R1',\n",
       " 'role': 'writer',\n",
       " 'dfeQueryEngine': 'viaQueryHint',\n",
       " 'gremlin': {'version': 'tinkerpop-3.7.1'},\n",
       " 'sparql': {'version': 'sparql-1.1'},\n",
       " 'opencypher': {'version': 'Neptune-9.0.20190305-1.0'},\n",
       " 'labMode': {'ObjectIndex': 'disabled',\n",
       "  'ReadWriteConflictDetection': 'enabled'},\n",
       " 'features': {'SlowQueryLogs': 'disabled',\n",
       "  'ResultCache': {'status': 'disabled'},\n",
       "  'IAMAuthentication': 'disabled',\n",
       "  'Streams': 'disabled',\n",
       "  'AuditLog': 'disabled'},\n",
       " 'settings': {'StrictTimeoutValidation': 'false',\n",
       "  'clusterQueryTimeoutInMs': '120000',\n",
       "  'SlowQueryLogsThreshold': '5000'}}"
      ]
     },
     "execution_count": 3,
     "metadata": {},
     "output_type": "execute_result"
    }
   ],
   "source": [
    "%status"
   ]
  },
  {
   "cell_type": "code",
   "execution_count": null,
   "id": "7c61978b-c987-482d-81ff-85c94c62de28",
   "metadata": {},
   "outputs": [],
   "source": []
  },
  {
   "cell_type": "code",
   "execution_count": null,
   "id": "09ce5dc0-a78a-4d4f-ab64-c1e796e423d1",
   "metadata": {},
   "outputs": [],
   "source": []
  },
  {
   "cell_type": "code",
   "execution_count": null,
   "id": "2dcaa56f-8d00-4257-b31f-e6ebea4c9924",
   "metadata": {},
   "outputs": [],
   "source": []
  },
  {
   "cell_type": "code",
   "execution_count": 12,
   "id": "6b7c950c-f134-4663-b6e0-9237f4233a40",
   "metadata": {
    "tags": []
   },
   "outputs": [
    {
     "data": {
      "application/vnd.jupyter.widget-view+json": {
       "model_id": "5f4e15ffb2694ae6b2b2c8f9e5f43287",
       "version_major": 2,
       "version_minor": 0
      },
      "text/plain": [
       "Tab(children=(Output(layout=Layout(max_height='600px', max_width='940px', overflow='scroll')), Output(layout=L…"
      ]
     },
     "metadata": {},
     "output_type": "display_data"
    }
   ],
   "source": [
    "%%gremlin\n",
    "\n",
    "g.addV(\"FundManager\")\n",
    "  .property(id, \"张雪松\")\n",
    "  .property(\"chineseName\", \"张雪松\")\n",
    "  .property(\"experienceTime\", 6.0)\n",
    "  .property(\"background\", \"张雪松，男，中国籍，6年证券从业经历，1973年生，经济学博士，于2002年进入公司实习及工作。曾任公司研究部研究员，从事宏观、策略、行业（机械及专用设备制造、外贸）及可转换债券研究，养老金及机构理财部总监助理，从事企业年金研究、投资方案设计及投资管理工作。自2006年3月16日至2008年1月12日，担任南方稳健成长证券投资基金的基金经理。自2006年7月25日至2008年1月12日，担任南方稳健成长贰号证券投资基金的基金经理。\")\n",
    "  .as(\"张雪松\").\n",
    "addV(\"FundManager\")\n",
    "  .property(id, \"窦玉明\")\n",
    "  .property(\"chineseName\", \"窦玉明\")\n",
    "  .property(\"experienceTime\", 14.6)\n",
    "  .property(\"background\", \"窦玉明，男，中国籍，14年证券从业经历，硕士研究生。曾任职于北京中信国际合作公司、君安证券有限公司、大成基金管理有限公司。2000年10月至2008年8月任职于嘉实基金管理有限公司，历任投资部总监、总经理助理和公司副总经理。1999年9月22日至2000年6月30日，担任景博证券投资基金的基金经理助理。2002年11月5日至2004年8月10日，担任嘉实成长收益证券投资基金的基金经理。2007年7月21日至2008年7月21日，担任嘉实主题精选混合型证券投资基金的基金经理。\")\n",
    "  .as(\"窦玉明\").\n",
    "addV(\"FundManager\")\n",
    "  .property(id, \"康赛波\")\n",
    "  .property(\"chineseName\", \"康赛波\")\n",
    "  .property(\"experienceTime\", 14.3)\n",
    "  .property(\"background\", \"康赛波，男，中国籍，14年证券从业经历，1997年毕业于湖南大学金融系，获学士学位。1997年至1999年工作于湘财证券有限责任公司，主要从事投资管理业务；1999年至2000年工作于大成基金管理有限公司，从事研发及投资管理业务；2001年2月起加入湘财合丰基金管理公司筹备组。2007年5月加入海富通基金管理有限公司。自2003年4月25日至2005年4月20日，担任宏利价值优化型稳定类行业混合型证券投资基金的基金经理。自2005年4月5日至2006年12月23日，担任宏利风险预算混合型证券投资基金的基金经理。2006年5月12日至2007年4月30日，担任宏利效率优选混合型证券投资基金（LOF）的基金经理。2007年8月6日至2011年4月21日，担任海富通风格优势混合型证券投资基金的基金经理。\")\n",
    "  .as(\"康赛波\").\n",
    "addV(\"FundManager\")\n",
    "  .property(id, \"张坤\")\n",
    "  .property(\"chineseName\", \"张坤\")\n",
    "  .property(\"experienceTime\", 16.2)\n",
    "  .property(\"background\", \"张坤，男，中国籍，16年证券从业经历，理学硕士。曾任易方达基金管理有限公司行业研究员、基金经理助理，研究部总经理助理。现任易方达基金管理有限公司副总经理级高级管理人员、权益投资决策委员会委员。自2012年9月28日至2021年9月10日，担任易方达中小盘混合型证券投资基金的基金经理、自2014年4月8日起，担任易方达亚洲精选股票型证券投资基金的基金经理、自2015年11月7日至2021年2月11日，担任易方达新丝路灵活配置混合型证券投资基金的基金经理。自2018年9月5日起，担任易方达蓝筹精选混合型证券投资基金的基金经理。自2020年6月17日起，担任易方达优质企业三年持有期混合型证券投资基金的基金经理。自2021年9月10日起，担任易方达优质精选混合型证券投资基金的基金经理。\")\n",
    "  .as(\"张坤\").\n",
    "addV(\"Fund\")\n",
    "  .property(id, \"F118001\")\n",
    "  .property(\"fundCode\", \"118001\")\n",
    "  .property(\"fundName\", \"易方达亚洲精选\")\n",
    "  .property(\"fundFullName\", \"易方达亚洲精选股票型证券投资基金\")\n",
    "  .property(\"establishDate\", \"2010-01-21\")\n",
    "  .property(\"fundType\", \"qdii\")\n",
    "  .property(\"trusteeCompany\", \"中国工商银行股份有限公司\")\n",
    ".as(\"F118001\").\n",
    "addV(\"Fund\")\n",
    "  .property(id, \"F110011\")\n",
    "  .property(\"fundCode\", \"110011\")\n",
    "  .property(\"fundName\", \"易方达优质精选混合（QDII）\")\n",
    "  .property(\"fundFullName\", \"易方达优质精选混合型证券投资基金\")\n",
    "  .property(\"establishDate\", \"2008-06-19\")\n",
    "  .property(\"fundType\", \"qdii\")\n",
    "  .property(\"trusteeCompany\", \"中国银行股份有限公司\")\n",
    ".as(\"F110011\").\n",
    "addV(\"Fund\")\n",
    "  .property(id, \"F005827\")\n",
    "  .property(\"fundCode\", \"005827\")\n",
    "  .property(\"fundName\", \"易方达蓝筹精选混合\")\n",
    "  .property(\"fundFullName\", \"易方达蓝筹精选混合型证券投资基金\")\n",
    "  .property(\"establishDate\", \"2018-09-05\")\n",
    "  .property(\"fundType\", \"混合型\")\n",
    "  .property(\"trusteeCompany\", \"中国银行股份有限公司\")\n",
    ".as(\"F005827\").\n",
    "addE(\"manage\").from(\"张坤\").to(\"F118001\").\n",
    "addE(\"manage\").from(\"张坤\").to(\"F110011\").\n",
    "addE(\"manage\").from(\"张坤\").to(\"F005827\")\n"
   ]
  },
  {
   "cell_type": "code",
   "execution_count": 13,
   "id": "264c4c50-654d-4d2e-9033-7bbb16853489",
   "metadata": {
    "tags": []
   },
   "outputs": [
    {
     "data": {
      "application/vnd.jupyter.widget-view+json": {
       "model_id": "5fd1b9e6b96c4381b4af0aaf66508b7c",
       "version_major": 2,
       "version_minor": 0
      },
      "text/plain": [
       "Tab(children=(Output(layout=Layout(max_height='600px', max_width='940px', overflow='scroll')), Output(layout=L…"
      ]
     },
     "metadata": {},
     "output_type": "display_data"
    }
   ],
   "source": [
    "%%gremlin\n",
    "g.V().groupCount().by(label).unfold()"
   ]
  },
  {
   "cell_type": "code",
   "execution_count": null,
   "id": "c1336ca7-ad62-484a-a663-fe937e9f8409",
   "metadata": {},
   "outputs": [],
   "source": []
  }
 ],
 "metadata": {
  "kernelspec": {
   "display_name": "Python 3",
   "language": "python",
   "name": "python3"
  },
  "language_info": {
   "codemirror_mode": {
    "name": "ipython",
    "version": 3
   },
   "file_extension": ".py",
   "mimetype": "text/x-python",
   "name": "python",
   "nbconvert_exporter": "python",
   "pygments_lexer": "ipython3",
   "version": "3.10.8"
  }
 },
 "nbformat": 4,
 "nbformat_minor": 5
}
